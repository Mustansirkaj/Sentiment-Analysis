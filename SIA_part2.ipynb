{
 "cells": [
  {
   "cell_type": "markdown",
   "id": "401789a4",
   "metadata": {},
   "source": [
    "# Step 2. Recommendation Engines"
   ]
  },
  {
   "cell_type": "markdown",
   "id": "8bff0adc",
   "metadata": {},
   "source": [
    "1. We're using Turicreate library to create the recommenders.\n",
    "2. We then input the recommendation engine with ratings score and sia\n",
    "(compound)scores and compare the results.\n",
    "\n",
    "### Note: Run the follwoing in python 3.7"
   ]
  },
  {
   "cell_type": "code",
   "execution_count": 147,
   "id": "30e340e8",
   "metadata": {},
   "outputs": [],
   "source": [
    "import pandas as pd\n",
    "import numpy as np\n",
    "import matplotlib.pyplot as plt\n",
    "from sklearn.cluster import KMeans\n",
    "from sklearn.preprocessing import StandardScaler\n",
    "from sklearn.preprocessing import LabelEncoder\n",
    "from matplotlib import cm"
   ]
  },
  {
   "cell_type": "code",
   "execution_count": 148,
   "id": "c6d0f108",
   "metadata": {},
   "outputs": [],
   "source": [
    "import turicreate as tc\n",
    "from turicreate import SFrame"
   ]
  },
  {
   "cell_type": "code",
   "execution_count": 172,
   "id": "1cb01eef",
   "metadata": {},
   "outputs": [
    {
     "data": {
      "text/html": [
       "<div>\n",
       "<style scoped>\n",
       "    .dataframe tbody tr th:only-of-type {\n",
       "        vertical-align: middle;\n",
       "    }\n",
       "\n",
       "    .dataframe tbody tr th {\n",
       "        vertical-align: top;\n",
       "    }\n",
       "\n",
       "    .dataframe thead th {\n",
       "        text-align: right;\n",
       "    }\n",
       "</style>\n",
       "<table border=\"1\" class=\"dataframe\">\n",
       "  <thead>\n",
       "    <tr style=\"text-align: right;\">\n",
       "      <th></th>\n",
       "      <th>Unnamed: 0</th>\n",
       "      <th>Id</th>\n",
       "      <th>neg</th>\n",
       "      <th>neu</th>\n",
       "      <th>pos</th>\n",
       "      <th>compound</th>\n",
       "      <th>HelpfulnessNumerator</th>\n",
       "      <th>HelpfulnessDenominator</th>\n",
       "      <th>Score</th>\n",
       "      <th>Time</th>\n",
       "    </tr>\n",
       "  </thead>\n",
       "  <tbody>\n",
       "    <tr>\n",
       "      <th>count</th>\n",
       "      <td>500.000000</td>\n",
       "      <td>500.000000</td>\n",
       "      <td>500.000000</td>\n",
       "      <td>500.000000</td>\n",
       "      <td>500.000000</td>\n",
       "      <td>500.000000</td>\n",
       "      <td>500.000000</td>\n",
       "      <td>500.00000</td>\n",
       "      <td>500.000000</td>\n",
       "      <td>5.000000e+02</td>\n",
       "    </tr>\n",
       "    <tr>\n",
       "      <th>mean</th>\n",
       "      <td>249.500000</td>\n",
       "      <td>250.500000</td>\n",
       "      <td>0.041372</td>\n",
       "      <td>0.765020</td>\n",
       "      <td>0.193614</td>\n",
       "      <td>0.638864</td>\n",
       "      <td>0.952000</td>\n",
       "      <td>1.27600</td>\n",
       "      <td>4.316000</td>\n",
       "      <td>1.294820e+09</td>\n",
       "    </tr>\n",
       "    <tr>\n",
       "      <th>std</th>\n",
       "      <td>144.481833</td>\n",
       "      <td>144.481833</td>\n",
       "      <td>0.053273</td>\n",
       "      <td>0.104938</td>\n",
       "      <td>0.109269</td>\n",
       "      <td>0.460826</td>\n",
       "      <td>2.045988</td>\n",
       "      <td>2.48922</td>\n",
       "      <td>1.202929</td>\n",
       "      <td>5.072437e+07</td>\n",
       "    </tr>\n",
       "    <tr>\n",
       "      <th>min</th>\n",
       "      <td>0.000000</td>\n",
       "      <td>1.000000</td>\n",
       "      <td>0.000000</td>\n",
       "      <td>0.355000</td>\n",
       "      <td>0.000000</td>\n",
       "      <td>-0.972600</td>\n",
       "      <td>0.000000</td>\n",
       "      <td>0.00000</td>\n",
       "      <td>1.000000</td>\n",
       "      <td>1.107821e+09</td>\n",
       "    </tr>\n",
       "    <tr>\n",
       "      <th>25%</th>\n",
       "      <td>124.750000</td>\n",
       "      <td>125.750000</td>\n",
       "      <td>0.000000</td>\n",
       "      <td>0.701000</td>\n",
       "      <td>0.119750</td>\n",
       "      <td>0.570900</td>\n",
       "      <td>0.000000</td>\n",
       "      <td>0.00000</td>\n",
       "      <td>4.000000</td>\n",
       "      <td>1.267790e+09</td>\n",
       "    </tr>\n",
       "    <tr>\n",
       "      <th>50%</th>\n",
       "      <td>249.500000</td>\n",
       "      <td>250.500000</td>\n",
       "      <td>0.027000</td>\n",
       "      <td>0.771500</td>\n",
       "      <td>0.180000</td>\n",
       "      <td>0.842600</td>\n",
       "      <td>0.000000</td>\n",
       "      <td>0.00000</td>\n",
       "      <td>5.000000</td>\n",
       "      <td>1.312978e+09</td>\n",
       "    </tr>\n",
       "    <tr>\n",
       "      <th>75%</th>\n",
       "      <td>374.250000</td>\n",
       "      <td>375.250000</td>\n",
       "      <td>0.064250</td>\n",
       "      <td>0.839000</td>\n",
       "      <td>0.260250</td>\n",
       "      <td>0.938100</td>\n",
       "      <td>1.000000</td>\n",
       "      <td>2.00000</td>\n",
       "      <td>5.000000</td>\n",
       "      <td>1.334621e+09</td>\n",
       "    </tr>\n",
       "    <tr>\n",
       "      <th>max</th>\n",
       "      <td>499.000000</td>\n",
       "      <td>500.000000</td>\n",
       "      <td>0.344000</td>\n",
       "      <td>1.000000</td>\n",
       "      <td>0.645000</td>\n",
       "      <td>0.995700</td>\n",
       "      <td>19.000000</td>\n",
       "      <td>19.00000</td>\n",
       "      <td>5.000000</td>\n",
       "      <td>1.351210e+09</td>\n",
       "    </tr>\n",
       "  </tbody>\n",
       "</table>\n",
       "</div>"
      ],
      "text/plain": [
       "       Unnamed: 0          Id         neg         neu         pos    compound  \\\n",
       "count  500.000000  500.000000  500.000000  500.000000  500.000000  500.000000   \n",
       "mean   249.500000  250.500000    0.041372    0.765020    0.193614    0.638864   \n",
       "std    144.481833  144.481833    0.053273    0.104938    0.109269    0.460826   \n",
       "min      0.000000    1.000000    0.000000    0.355000    0.000000   -0.972600   \n",
       "25%    124.750000  125.750000    0.000000    0.701000    0.119750    0.570900   \n",
       "50%    249.500000  250.500000    0.027000    0.771500    0.180000    0.842600   \n",
       "75%    374.250000  375.250000    0.064250    0.839000    0.260250    0.938100   \n",
       "max    499.000000  500.000000    0.344000    1.000000    0.645000    0.995700   \n",
       "\n",
       "       HelpfulnessNumerator  HelpfulnessDenominator       Score          Time  \n",
       "count            500.000000               500.00000  500.000000  5.000000e+02  \n",
       "mean               0.952000                 1.27600    4.316000  1.294820e+09  \n",
       "std                2.045988                 2.48922    1.202929  5.072437e+07  \n",
       "min                0.000000                 0.00000    1.000000  1.107821e+09  \n",
       "25%                0.000000                 0.00000    4.000000  1.267790e+09  \n",
       "50%                0.000000                 0.00000    5.000000  1.312978e+09  \n",
       "75%                1.000000                 2.00000    5.000000  1.334621e+09  \n",
       "max               19.000000                19.00000    5.000000  1.351210e+09  "
      ]
     },
     "execution_count": 172,
     "metadata": {},
     "output_type": "execute_result"
    }
   ],
   "source": [
    "df_vaders = pd.read_csv ('/Users/mustansirmurtazakaj/Desktop/pythonjupyter/Amazonreviews/vaders.csv')\n",
    "df_vaders.to_excel('/Users/mustansirmurtazakaj/Desktop/pythonjupyter/Amazonreviews/vaders_raw.xlsx')\n",
    "df_vaders.describe()\n",
    "\n",
    "#df_vaders"
   ]
  },
  {
   "cell_type": "code",
   "execution_count": 176,
   "id": "ac259498",
   "metadata": {},
   "outputs": [],
   "source": [
    "sf_vaders=tc.SFrame(df_vaders)\n",
    "#split into test and rain datasets\n",
    "sftrain_vaders, sftest_vaders = sf_vaders.random_split(0.8, seed=42)"
   ]
  },
  {
   "cell_type": "code",
   "execution_count": 177,
   "id": "1b4f673e",
   "metadata": {},
   "outputs": [
    {
     "data": {
      "text/html": [
       "<pre>Warning: Ignoring columns Unnamed: 0, neg, neu, pos, compound, UserId, ProfileName, HelpfulnessNumerator, HelpfulnessDenominator, Time, Summary, Text;</pre>"
      ],
      "text/plain": [
       "Warning: Ignoring columns Unnamed: 0, neg, neu, pos, compound, UserId, ProfileName, HelpfulnessNumerator, HelpfulnessDenominator, Time, Summary, Text;"
      ]
     },
     "metadata": {},
     "output_type": "display_data"
    },
    {
     "data": {
      "text/html": [
       "<pre>    To use these columns in scoring predictions, use a model that allows the use of additional features.</pre>"
      ],
      "text/plain": [
       "    To use these columns in scoring predictions, use a model that allows the use of additional features."
      ]
     },
     "metadata": {},
     "output_type": "display_data"
    },
    {
     "data": {
      "text/html": [
       "<pre>Preparing data set.</pre>"
      ],
      "text/plain": [
       "Preparing data set."
      ]
     },
     "metadata": {},
     "output_type": "display_data"
    },
    {
     "data": {
      "text/html": [
       "<pre>    Data has 396 observations with 396 users and 121 items.</pre>"
      ],
      "text/plain": [
       "    Data has 396 observations with 396 users and 121 items."
      ]
     },
     "metadata": {},
     "output_type": "display_data"
    },
    {
     "data": {
      "text/html": [
       "<pre>    Data prepared in: 0.009683s</pre>"
      ],
      "text/plain": [
       "    Data prepared in: 0.009683s"
      ]
     },
     "metadata": {},
     "output_type": "display_data"
    },
    {
     "data": {
      "text/html": [
       "<pre>Training model from provided data.</pre>"
      ],
      "text/plain": [
       "Training model from provided data."
      ]
     },
     "metadata": {},
     "output_type": "display_data"
    },
    {
     "data": {
      "text/html": [
       "<pre>Gathering per-item and per-user statistics.</pre>"
      ],
      "text/plain": [
       "Gathering per-item and per-user statistics."
      ]
     },
     "metadata": {},
     "output_type": "display_data"
    },
    {
     "data": {
      "text/html": [
       "<pre>+--------------------------------+------------+</pre>"
      ],
      "text/plain": [
       "+--------------------------------+------------+"
      ]
     },
     "metadata": {},
     "output_type": "display_data"
    },
    {
     "data": {
      "text/html": [
       "<pre>| Elapsed Time (Item Statistics) | % Complete |</pre>"
      ],
      "text/plain": [
       "| Elapsed Time (Item Statistics) | % Complete |"
      ]
     },
     "metadata": {},
     "output_type": "display_data"
    },
    {
     "data": {
      "text/html": [
       "<pre>+--------------------------------+------------+</pre>"
      ],
      "text/plain": [
       "+--------------------------------+------------+"
      ]
     },
     "metadata": {},
     "output_type": "display_data"
    },
    {
     "data": {
      "text/html": [
       "<pre>| 7.088ms                        | 100        |</pre>"
      ],
      "text/plain": [
       "| 7.088ms                        | 100        |"
      ]
     },
     "metadata": {},
     "output_type": "display_data"
    },
    {
     "data": {
      "text/html": [
       "<pre>+--------------------------------+------------+</pre>"
      ],
      "text/plain": [
       "+--------------------------------+------------+"
      ]
     },
     "metadata": {},
     "output_type": "display_data"
    },
    {
     "data": {
      "text/html": [
       "<pre>Setting up lookup tables.</pre>"
      ],
      "text/plain": [
       "Setting up lookup tables."
      ]
     },
     "metadata": {},
     "output_type": "display_data"
    },
    {
     "data": {
      "text/html": [
       "<pre>Processing data in one pass using dense lookup tables.</pre>"
      ],
      "text/plain": [
       "Processing data in one pass using dense lookup tables."
      ]
     },
     "metadata": {},
     "output_type": "display_data"
    },
    {
     "data": {
      "text/html": [
       "<pre>+-------------------------------------+------------------+-----------------+</pre>"
      ],
      "text/plain": [
       "+-------------------------------------+------------------+-----------------+"
      ]
     },
     "metadata": {},
     "output_type": "display_data"
    },
    {
     "data": {
      "text/html": [
       "<pre>| Elapsed Time (Constructing Lookups) | Total % Complete | Items Processed |</pre>"
      ],
      "text/plain": [
       "| Elapsed Time (Constructing Lookups) | Total % Complete | Items Processed |"
      ]
     },
     "metadata": {},
     "output_type": "display_data"
    },
    {
     "data": {
      "text/html": [
       "<pre>+-------------------------------------+------------------+-----------------+</pre>"
      ],
      "text/plain": [
       "+-------------------------------------+------------------+-----------------+"
      ]
     },
     "metadata": {},
     "output_type": "display_data"
    },
    {
     "data": {
      "text/html": [
       "<pre>| 9.612ms                             | 0                | 0               |</pre>"
      ],
      "text/plain": [
       "| 9.612ms                             | 0                | 0               |"
      ]
     },
     "metadata": {},
     "output_type": "display_data"
    },
    {
     "data": {
      "text/html": [
       "<pre>| 12.565ms                            | 100              | 121             |</pre>"
      ],
      "text/plain": [
       "| 12.565ms                            | 100              | 121             |"
      ]
     },
     "metadata": {},
     "output_type": "display_data"
    },
    {
     "data": {
      "text/html": [
       "<pre>+-------------------------------------+------------------+-----------------+</pre>"
      ],
      "text/plain": [
       "+-------------------------------------+------------------+-----------------+"
      ]
     },
     "metadata": {},
     "output_type": "display_data"
    },
    {
     "data": {
      "text/html": [
       "<pre>Finalizing lookup tables.</pre>"
      ],
      "text/plain": [
       "Finalizing lookup tables."
      ]
     },
     "metadata": {},
     "output_type": "display_data"
    },
    {
     "data": {
      "text/html": [
       "<pre>Generating candidate set for working with new users.</pre>"
      ],
      "text/plain": [
       "Generating candidate set for working with new users."
      ]
     },
     "metadata": {},
     "output_type": "display_data"
    },
    {
     "data": {
      "text/html": [
       "<pre>Finished training in 0.016039s</pre>"
      ],
      "text/plain": [
       "Finished training in 0.016039s"
      ]
     },
     "metadata": {},
     "output_type": "display_data"
    },
    {
     "data": {
      "text/html": [
       "<pre>Warning: Ignoring columns Unnamed: 0, neg, neu, pos, UserId, ProfileName, HelpfulnessNumerator, HelpfulnessDenominator, Score, Time, Summary, Text;</pre>"
      ],
      "text/plain": [
       "Warning: Ignoring columns Unnamed: 0, neg, neu, pos, UserId, ProfileName, HelpfulnessNumerator, HelpfulnessDenominator, Score, Time, Summary, Text;"
      ]
     },
     "metadata": {},
     "output_type": "display_data"
    },
    {
     "data": {
      "text/html": [
       "<pre>    To use these columns in scoring predictions, use a model that allows the use of additional features.</pre>"
      ],
      "text/plain": [
       "    To use these columns in scoring predictions, use a model that allows the use of additional features."
      ]
     },
     "metadata": {},
     "output_type": "display_data"
    },
    {
     "data": {
      "text/html": [
       "<pre>Preparing data set.</pre>"
      ],
      "text/plain": [
       "Preparing data set."
      ]
     },
     "metadata": {},
     "output_type": "display_data"
    },
    {
     "data": {
      "text/html": [
       "<pre>    Data has 396 observations with 396 users and 121 items.</pre>"
      ],
      "text/plain": [
       "    Data has 396 observations with 396 users and 121 items."
      ]
     },
     "metadata": {},
     "output_type": "display_data"
    },
    {
     "data": {
      "text/html": [
       "<pre>    Data prepared in: 0.004428s</pre>"
      ],
      "text/plain": [
       "    Data prepared in: 0.004428s"
      ]
     },
     "metadata": {},
     "output_type": "display_data"
    },
    {
     "data": {
      "text/html": [
       "<pre>Training model from provided data.</pre>"
      ],
      "text/plain": [
       "Training model from provided data."
      ]
     },
     "metadata": {},
     "output_type": "display_data"
    },
    {
     "data": {
      "text/html": [
       "<pre>Gathering per-item and per-user statistics.</pre>"
      ],
      "text/plain": [
       "Gathering per-item and per-user statistics."
      ]
     },
     "metadata": {},
     "output_type": "display_data"
    },
    {
     "data": {
      "text/html": [
       "<pre>+--------------------------------+------------+</pre>"
      ],
      "text/plain": [
       "+--------------------------------+------------+"
      ]
     },
     "metadata": {},
     "output_type": "display_data"
    },
    {
     "data": {
      "text/html": [
       "<pre>| Elapsed Time (Item Statistics) | % Complete |</pre>"
      ],
      "text/plain": [
       "| Elapsed Time (Item Statistics) | % Complete |"
      ]
     },
     "metadata": {},
     "output_type": "display_data"
    },
    {
     "data": {
      "text/html": [
       "<pre>+--------------------------------+------------+</pre>"
      ],
      "text/plain": [
       "+--------------------------------+------------+"
      ]
     },
     "metadata": {},
     "output_type": "display_data"
    },
    {
     "data": {
      "text/html": [
       "<pre>| 1.808ms                        | 100        |</pre>"
      ],
      "text/plain": [
       "| 1.808ms                        | 100        |"
      ]
     },
     "metadata": {},
     "output_type": "display_data"
    },
    {
     "data": {
      "text/html": [
       "<pre>+--------------------------------+------------+</pre>"
      ],
      "text/plain": [
       "+--------------------------------+------------+"
      ]
     },
     "metadata": {},
     "output_type": "display_data"
    },
    {
     "data": {
      "text/html": [
       "<pre>Setting up lookup tables.</pre>"
      ],
      "text/plain": [
       "Setting up lookup tables."
      ]
     },
     "metadata": {},
     "output_type": "display_data"
    },
    {
     "data": {
      "text/html": [
       "<pre>Processing data in one pass using dense lookup tables.</pre>"
      ],
      "text/plain": [
       "Processing data in one pass using dense lookup tables."
      ]
     },
     "metadata": {},
     "output_type": "display_data"
    },
    {
     "data": {
      "text/html": [
       "<pre>+-------------------------------------+------------------+-----------------+</pre>"
      ],
      "text/plain": [
       "+-------------------------------------+------------------+-----------------+"
      ]
     },
     "metadata": {},
     "output_type": "display_data"
    },
    {
     "data": {
      "text/html": [
       "<pre>| Elapsed Time (Constructing Lookups) | Total % Complete | Items Processed |</pre>"
      ],
      "text/plain": [
       "| Elapsed Time (Constructing Lookups) | Total % Complete | Items Processed |"
      ]
     },
     "metadata": {},
     "output_type": "display_data"
    },
    {
     "data": {
      "text/html": [
       "<pre>+-------------------------------------+------------------+-----------------+</pre>"
      ],
      "text/plain": [
       "+-------------------------------------+------------------+-----------------+"
      ]
     },
     "metadata": {},
     "output_type": "display_data"
    },
    {
     "data": {
      "text/html": [
       "<pre>| 2.462ms                             | 0                | 0               |</pre>"
      ],
      "text/plain": [
       "| 2.462ms                             | 0                | 0               |"
      ]
     },
     "metadata": {},
     "output_type": "display_data"
    },
    {
     "data": {
      "text/html": [
       "<pre>| 4.559ms                             | 100              | 121             |</pre>"
      ],
      "text/plain": [
       "| 4.559ms                             | 100              | 121             |"
      ]
     },
     "metadata": {},
     "output_type": "display_data"
    },
    {
     "data": {
      "text/html": [
       "<pre>+-------------------------------------+------------------+-----------------+</pre>"
      ],
      "text/plain": [
       "+-------------------------------------+------------------+-----------------+"
      ]
     },
     "metadata": {},
     "output_type": "display_data"
    },
    {
     "data": {
      "text/html": [
       "<pre>Finalizing lookup tables.</pre>"
      ],
      "text/plain": [
       "Finalizing lookup tables."
      ]
     },
     "metadata": {},
     "output_type": "display_data"
    },
    {
     "data": {
      "text/html": [
       "<pre>Generating candidate set for working with new users.</pre>"
      ],
      "text/plain": [
       "Generating candidate set for working with new users."
      ]
     },
     "metadata": {},
     "output_type": "display_data"
    },
    {
     "data": {
      "text/html": [
       "<pre>Finished training in 0.005652s</pre>"
      ],
      "text/plain": [
       "Finished training in 0.005652s"
      ]
     },
     "metadata": {},
     "output_type": "display_data"
    }
   ],
   "source": [
    "#modelling\n",
    "## User similarity\n",
    "collab_model_rating=tc.recommender.item_similarity_recommender.create(sftrain_vaders, user_id='Id', item_id='ProductId', target='Score', user_data=None, item_data=None, nearest_items=None, similarity_type='jaccard', threshold=0.001, only_top_k=64, verbose=True, target_memory_usage=8589934592)\n",
    "collab_model_sia=tc.recommender.item_similarity_recommender.create(sftrain_vaders, user_id='Id', item_id='ProductId', target='compound', user_data=None, item_data=None, nearest_items=None, similarity_type='jaccard', threshold=0.001, only_top_k=64, verbose=True, target_memory_usage=8589934592)"
   ]
  },
  {
   "cell_type": "code",
   "execution_count": 162,
   "id": "7718f3d0",
   "metadata": {},
   "outputs": [],
   "source": [
    "collab_recom_rating = collab_model_rating.recommend(users=None, k=5, exclude=None, items=None, new_observation_data=None, new_user_data=None, new_item_data=None, exclude_known=True, diversity=0, random_seed=None, verbose=True)\n",
    "collab_recom_compound = collab_model_sia.recommend(users=None, k=5, exclude=None, items=None, new_observation_data=None, new_user_data=None, new_item_data=None, exclude_known=True, diversity=0, random_seed=None, verbose=True)"
   ]
  },
  {
   "cell_type": "code",
   "execution_count": 179,
   "id": "35cfd95e",
   "metadata": {},
   "outputs": [],
   "source": [
    "# conmverting back to df\n",
    "vaders_recomm_rating = pd.DataFrame(collab_recom_rating)\n",
    "vaders_recomm_rating = vaders_recomm_rating.reset_index().rename(columns={'rank': 'rating_rank'})\n",
    "vaders_recomm_rating.drop(columns=['score', 'index'], inplace=True)\n",
    "\n",
    "vaders_recomm_compound = pd.DataFrame(collab_recom_compound)\n",
    "vaders_recomm_compound = vaders_recomm_compound.reset_index().rename(columns={'rank': 'compound_rank'})\n",
    "vaders_recomm_compound.drop(columns=['score', 'index'], inplace=True)\n"
   ]
  },
  {
   "cell_type": "code",
   "execution_count": 185,
   "id": "07f9602a",
   "metadata": {},
   "outputs": [
    {
     "name": "stdout",
     "output_type": "stream",
     "text": [
      "\n",
      "Precision and recall summary statistics by cutoff\n",
      "+--------+-----------------------+----------------------+\n",
      "| cutoff |     mean_precision    |     mean_recall      |\n",
      "+--------+-----------------------+----------------------+\n",
      "|   1    |          0.0          |         0.0          |\n",
      "|   2    |          0.0          |         0.0          |\n",
      "|   3    |          0.0          |         0.0          |\n",
      "|   4    | 0.0024038461538461544 | 0.009615384615384618 |\n",
      "|   5    | 0.0019230769230769232 | 0.009615384615384618 |\n",
      "|   6    | 0.0016025641025641025 | 0.009615384615384618 |\n",
      "|   7    | 0.0013736263736263735 | 0.009615384615384618 |\n",
      "|   8    | 0.0024038461538461535 | 0.01923076923076923  |\n",
      "|   9    |  0.002136752136752137 | 0.01923076923076923  |\n",
      "|   10   | 0.0019230769230769236 | 0.01923076923076923  |\n",
      "+--------+-----------------------+----------------------+\n",
      "[10 rows x 3 columns]\n",
      "\n",
      "\n",
      "Overall RMSE: 3.913309565849558\n",
      "\n",
      "Per User RMSE (best)\n",
      "+-----+--------------------+-------+\n",
      "|  Id |        rmse        | count |\n",
      "+-----+--------------------+-------+\n",
      "| 268 | 0.1428571428571428 |   1   |\n",
      "+-----+--------------------+-------+\n",
      "[1 rows x 3 columns]\n",
      "\n",
      "\n",
      "Per User RMSE (worst)\n",
      "+-----+------+-------+\n",
      "|  Id | rmse | count |\n",
      "+-----+------+-------+\n",
      "| 376 | 5.0  |   1   |\n",
      "+-----+------+-------+\n",
      "[1 rows x 3 columns]\n",
      "\n",
      "\n",
      "Per Item RMSE (best)\n",
      "+------------+--------------------+-------+\n",
      "| ProductId  |        rmse        | count |\n",
      "+------------+--------------------+-------+\n",
      "| B000LKZK7C | 0.1428571428571428 |   1   |\n",
      "+------------+--------------------+-------+\n",
      "[1 rows x 3 columns]\n",
      "\n",
      "\n",
      "Per Item RMSE (worst)\n",
      "+------------+------+-------+\n",
      "| ProductId  | rmse | count |\n",
      "+------------+------+-------+\n",
      "| B001FA1MCO | 5.0  |   1   |\n",
      "+------------+------+-------+\n",
      "[1 rows x 3 columns]\n",
      "\n"
     ]
    },
    {
     "data": {
      "text/plain": [
       "{'precision_recall_by_user': Columns:\n",
       " \tId\tint\n",
       " \tcutoff\tint\n",
       " \tprecision\tfloat\n",
       " \trecall\tfloat\n",
       " \tcount\tint\n",
       " \n",
       " Rows: 1872\n",
       " \n",
       " Data:\n",
       " +-----+--------+-----------+--------+-------+\n",
       " |  Id | cutoff | precision | recall | count |\n",
       " +-----+--------+-----------+--------+-------+\n",
       " | 145 |   1    |    0.0    |  0.0   |   1   |\n",
       " | 145 |   2    |    0.0    |  0.0   |   1   |\n",
       " | 145 |   3    |    0.0    |  0.0   |   1   |\n",
       " | 145 |   4    |    0.0    |  0.0   |   1   |\n",
       " | 145 |   5    |    0.0    |  0.0   |   1   |\n",
       " | 145 |   6    |    0.0    |  0.0   |   1   |\n",
       " | 145 |   7    |    0.0    |  0.0   |   1   |\n",
       " | 145 |   8    |    0.0    |  0.0   |   1   |\n",
       " | 145 |   9    |    0.0    |  0.0   |   1   |\n",
       " | 145 |   10   |    0.0    |  0.0   |   1   |\n",
       " +-----+--------+-----------+--------+-------+\n",
       " [1872 rows x 5 columns]\n",
       " Note: Only the head of the SFrame is printed.\n",
       " You can use print_rows(num_rows=m, num_columns=n) to print more rows and columns.,\n",
       " 'precision_recall_overall': Columns:\n",
       " \tcutoff\tint\n",
       " \tprecision\tfloat\n",
       " \trecall\tfloat\n",
       " \n",
       " Rows: 18\n",
       " \n",
       " Data:\n",
       " +--------+-----------------------+----------------------+\n",
       " | cutoff |       precision       |        recall        |\n",
       " +--------+-----------------------+----------------------+\n",
       " |   1    |          0.0          |         0.0          |\n",
       " |   2    |          0.0          |         0.0          |\n",
       " |   3    |          0.0          |         0.0          |\n",
       " |   4    | 0.0024038461538461544 | 0.009615384615384618 |\n",
       " |   5    | 0.0019230769230769232 | 0.009615384615384618 |\n",
       " |   6    | 0.0016025641025641025 | 0.009615384615384618 |\n",
       " |   7    | 0.0013736263736263735 | 0.009615384615384618 |\n",
       " |   8    |  0.002403846153846154 | 0.019230769230769232 |\n",
       " |   9    | 0.0021367521367521365 | 0.019230769230769232 |\n",
       " |   10   | 0.0019230769230769236 | 0.01923076923076923  |\n",
       " +--------+-----------------------+----------------------+\n",
       " [18 rows x 3 columns]\n",
       " Note: Only the head of the SFrame is printed.\n",
       " You can use print_rows(num_rows=m, num_columns=n) to print more rows and columns.,\n",
       " 'rmse_by_user': Columns:\n",
       " \tId\tint\n",
       " \trmse\tfloat\n",
       " \tcount\tint\n",
       " \n",
       " Rows: 104\n",
       " \n",
       " Data:\n",
       " +-----+-------------------+-------+\n",
       " |  Id |        rmse       | count |\n",
       " +-----+-------------------+-------+\n",
       " | 376 |        5.0        |   1   |\n",
       " | 405 |        5.0        |   1   |\n",
       " |  80 |        5.0        |   1   |\n",
       " | 414 |        4.0        |   1   |\n",
       " | 299 |        4.2        |   1   |\n",
       " | 408 |        4.0        |   1   |\n",
       " | 297 |        3.2        |   1   |\n",
       " | 211 | 4.583333333333333 |   1   |\n",
       " | 344 |        4.3        |   1   |\n",
       " |  23 | 4.153846153846153 |   1   |\n",
       " +-----+-------------------+-------+\n",
       " [104 rows x 3 columns]\n",
       " Note: Only the head of the SFrame is printed.\n",
       " You can use print_rows(num_rows=m, num_columns=n) to print more rows and columns.,\n",
       " 'rmse_by_item': Columns:\n",
       " \tProductId\tstr\n",
       " \trmse\tfloat\n",
       " \tcount\tint\n",
       " \n",
       " Rows: 61\n",
       " \n",
       " Data:\n",
       " +------------+--------------------+-------+\n",
       " | ProductId  |        rmse        | count |\n",
       " +------------+--------------------+-------+\n",
       " | B001FA1MCO |        5.0         |   1   |\n",
       " | B002SRYRE8 |        4.0         |   2   |\n",
       " | B00813GRG4 |        1.0         |   1   |\n",
       " | B000SV90J8 |        4.0         |   1   |\n",
       " | B000ITVLE2 | 4.291666666666667  |   1   |\n",
       " | B001HTL6CY |        2.0         |   1   |\n",
       " | B005DUM9UQ | 2.9154759474226504 |   2   |\n",
       " | B000E7L2R4 |        5.0         |   1   |\n",
       " | B005CJVVJ8 |        3.25        |   1   |\n",
       " | B001L4ELRW |        1.0         |   1   |\n",
       " +------------+--------------------+-------+\n",
       " [61 rows x 3 columns]\n",
       " Note: Only the head of the SFrame is printed.\n",
       " You can use print_rows(num_rows=m, num_columns=n) to print more rows and columns.,\n",
       " 'rmse_overall': 3.913309565849558}"
      ]
     },
     "execution_count": 185,
     "metadata": {},
     "output_type": "execute_result"
    }
   ],
   "source": [
    "collab_model_rating.evaluate(sftest_vaders, metric='auto')"
   ]
  },
  {
   "cell_type": "code",
   "execution_count": 187,
   "id": "b4326526",
   "metadata": {},
   "outputs": [
    {
     "name": "stdout",
     "output_type": "stream",
     "text": [
      "\n",
      "Precision and recall summary statistics by cutoff\n",
      "+--------+-----------------------+----------------------+\n",
      "| cutoff |     mean_precision    |     mean_recall      |\n",
      "+--------+-----------------------+----------------------+\n",
      "|   1    |          0.0          |         0.0          |\n",
      "|   2    |          0.0          |         0.0          |\n",
      "|   3    |          0.0          |         0.0          |\n",
      "|   4    |          0.0          |         0.0          |\n",
      "|   5    | 0.0019230769230769234 | 0.009615384615384616 |\n",
      "|   6    |  0.003205128205128205 | 0.01923076923076923  |\n",
      "|   7    |  0.002747252747252747 | 0.019230769230769232 |\n",
      "|   8    | 0.0024038461538461535 | 0.01923076923076923  |\n",
      "|   9    | 0.0021367521367521365 | 0.019230769230769232 |\n",
      "|   10   |  0.002884615384615385 | 0.028846153846153848 |\n",
      "+--------+-----------------------+----------------------+\n",
      "[10 rows x 3 columns]\n",
      "\n",
      "\n",
      "Overall RMSE: 0.5722663537457745\n",
      "\n",
      "Per User RMSE (best)\n",
      "+----+------+-------+\n",
      "| Id | rmse | count |\n",
      "+----+------+-------+\n",
      "| 63 | 0.0  |   1   |\n",
      "+----+------+-------+\n",
      "[1 rows x 3 columns]\n",
      "\n",
      "\n",
      "Per User RMSE (worst)\n",
      "+----+--------------------+-------+\n",
      "| Id |        rmse        | count |\n",
      "+----+--------------------+-------+\n",
      "| 68 | 1.8026509247085634 |   1   |\n",
      "+----+--------------------+-------+\n",
      "[1 rows x 3 columns]\n",
      "\n",
      "\n",
      "Per Item RMSE (best)\n",
      "+------------+------+-------+\n",
      "| ProductId  | rmse | count |\n",
      "+------------+------+-------+\n",
      "| B001EO5TPM | 0.0  |   1   |\n",
      "+------------+------+-------+\n",
      "[1 rows x 3 columns]\n",
      "\n",
      "\n",
      "Per Item RMSE (worst)\n",
      "+------------+--------------------+-------+\n",
      "| ProductId  |        rmse        | count |\n",
      "+------------+--------------------+-------+\n",
      "| B000LKZK7C | 1.4910056233800382 |   1   |\n",
      "+------------+--------------------+-------+\n",
      "[1 rows x 3 columns]\n",
      "\n"
     ]
    },
    {
     "data": {
      "text/plain": [
       "{'precision_recall_by_user': Columns:\n",
       " \tId\tint\n",
       " \tcutoff\tint\n",
       " \tprecision\tfloat\n",
       " \trecall\tfloat\n",
       " \tcount\tint\n",
       " \n",
       " Rows: 1872\n",
       " \n",
       " Data:\n",
       " +-----+--------+-----------+--------+-------+\n",
       " |  Id | cutoff | precision | recall | count |\n",
       " +-----+--------+-----------+--------+-------+\n",
       " | 376 |   1    |    0.0    |  0.0   |   1   |\n",
       " | 376 |   2    |    0.0    |  0.0   |   1   |\n",
       " | 376 |   3    |    0.0    |  0.0   |   1   |\n",
       " | 376 |   4    |    0.0    |  0.0   |   1   |\n",
       " | 376 |   5    |    0.0    |  0.0   |   1   |\n",
       " | 376 |   6    |    0.0    |  0.0   |   1   |\n",
       " | 376 |   7    |    0.0    |  0.0   |   1   |\n",
       " | 376 |   8    |    0.0    |  0.0   |   1   |\n",
       " | 376 |   9    |    0.0    |  0.0   |   1   |\n",
       " | 376 |   10   |    0.0    |  0.0   |   1   |\n",
       " +-----+--------+-----------+--------+-------+\n",
       " [1872 rows x 5 columns]\n",
       " Note: Only the head of the SFrame is printed.\n",
       " You can use print_rows(num_rows=m, num_columns=n) to print more rows and columns.,\n",
       " 'precision_recall_overall': Columns:\n",
       " \tcutoff\tint\n",
       " \tprecision\tfloat\n",
       " \trecall\tfloat\n",
       " \n",
       " Rows: 18\n",
       " \n",
       " Data:\n",
       " +--------+-----------------------+----------------------+\n",
       " | cutoff |       precision       |        recall        |\n",
       " +--------+-----------------------+----------------------+\n",
       " |   1    |          0.0          |         0.0          |\n",
       " |   2    |          0.0          |         0.0          |\n",
       " |   3    |          0.0          |         0.0          |\n",
       " |   4    |          0.0          |         0.0          |\n",
       " |   5    |  0.001923076923076924 | 0.009615384615384614 |\n",
       " |   6    |  0.003205128205128205 | 0.019230769230769232 |\n",
       " |   7    |  0.002747252747252747 | 0.01923076923076923  |\n",
       " |   8    | 0.0024038461538461535 | 0.01923076923076923  |\n",
       " |   9    |  0.002136752136752137 | 0.01923076923076923  |\n",
       " |   10   |  0.002884615384615385 | 0.028846153846153848 |\n",
       " +--------+-----------------------+----------------------+\n",
       " [18 rows x 3 columns]\n",
       " Note: Only the head of the SFrame is printed.\n",
       " You can use print_rows(num_rows=m, num_columns=n) to print more rows and columns.,\n",
       " 'rmse_by_user': Columns:\n",
       " \tId\tint\n",
       " \trmse\tfloat\n",
       " \tcount\tint\n",
       " \n",
       " Rows: 104\n",
       " \n",
       " Data:\n",
       " +-----+----------------------+-------+\n",
       " |  Id |         rmse         | count |\n",
       " +-----+----------------------+-------+\n",
       " | 376 |        0.8962        |   1   |\n",
       " | 405 |        0.8172        |   1   |\n",
       " |  80 |        0.8636        |   1   |\n",
       " | 414 |  0.4940112016828819  |   1   |\n",
       " | 299 |  0.1387536681567182  |   1   |\n",
       " | 408 | 0.14270394425453592  |   1   |\n",
       " | 297 | 0.20195366815671822  |   1   |\n",
       " | 211 |  0.3653095100359365  |   1   |\n",
       " | 344 | 0.048310307651853956 |   1   |\n",
       " |  23 | 0.014999480167479096 |   1   |\n",
       " +-----+----------------------+-------+\n",
       " [104 rows x 3 columns]\n",
       " Note: Only the head of the SFrame is printed.\n",
       " You can use print_rows(num_rows=m, num_columns=n) to print more rows and columns.,\n",
       " 'rmse_by_item': Columns:\n",
       " \tProductId\tstr\n",
       " \trmse\tfloat\n",
       " \tcount\tint\n",
       " \n",
       " Rows: 61\n",
       " \n",
       " Data:\n",
       " +------------+----------------------+-------+\n",
       " | ProductId  |         rmse         | count |\n",
       " +------------+----------------------+-------+\n",
       " | B001FA1MCO | 0.37173923218511695  |   1   |\n",
       " | B002SRYRE8 |  0.9492591656506154  |   2   |\n",
       " | B00813GRG4 |        0.5664        |   1   |\n",
       " | B000SV90J8 | 0.023801130686300298 |   1   |\n",
       " | B000ITVLE2 |  0.2459782101849417  |   1   |\n",
       " | B001HTL6CY |        0.4786        |   1   |\n",
       " | B005DUM9UQ |  1.3055251810791315  |   2   |\n",
       " | B000E7L2R4 |        0.6369        |   1   |\n",
       " | B005CJVVJ8 |  0.3333704531510212  |   1   |\n",
       " | B001L4ELRW |        0.6478        |   1   |\n",
       " +------------+----------------------+-------+\n",
       " [61 rows x 3 columns]\n",
       " Note: Only the head of the SFrame is printed.\n",
       " You can use print_rows(num_rows=m, num_columns=n) to print more rows and columns.,\n",
       " 'rmse_overall': 0.5722663537457745}"
      ]
     },
     "execution_count": 187,
     "metadata": {},
     "output_type": "execute_result"
    }
   ],
   "source": [
    "collab_model_sia.evaluate(sftest_vaders, metric='auto')"
   ]
  },
  {
   "cell_type": "markdown",
   "id": "3cfadd28",
   "metadata": {},
   "source": [
    "The two root mean square error (RMSE) values indicate that the collaborative filtering model constructed using sentiment intensity analyzer (SIA) scores exhibits an 85% reduction in error compared to the model constructed using product ratings."
   ]
  }
 ],
 "metadata": {
  "kernelspec": {
   "display_name": "Python 3 (ipykernel)",
   "language": "python",
   "name": "python3"
  },
  "language_info": {
   "codemirror_mode": {
    "name": "ipython",
    "version": 3
   },
   "file_extension": ".py",
   "mimetype": "text/x-python",
   "name": "python",
   "nbconvert_exporter": "python",
   "pygments_lexer": "ipython3",
   "version": "3.7.15"
  }
 },
 "nbformat": 4,
 "nbformat_minor": 5
}
